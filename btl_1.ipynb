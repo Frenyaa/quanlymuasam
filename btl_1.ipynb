{
 "cells": [
  {
   "cell_type": "markdown",
   "metadata": {},
   "source": [
    "# 🧮 Bài toán kế hoạch lập ngân sách mua sắm\n",
    "\n",
    "Trong notebook này, chúng tôi thực hiện giải bài toán **Knapsack (Balo)** bằng nhiều phương pháp khác nhau:\n",
    "- Greedy (Tham lam)\n",
    "- Dynamic Programming (Quy hoạch động)\n",
    "- Branch and Bound (Nhánh và cận)\n",
    "- OR-Tools (Tối ưu hóa tuyến tính)\n",
    "\n",
    "Mục tiêu là **chọn ra các món hàng sao cho tổng chi phí không vượt quá ngân sách**, nhưng tổng giá trị là lớn nhất.\n",
    "\n",
    "File dữ liệu: `items.json`, chứa danh sách các món hàng với `cost` và `value`."
   ]
  },
  {
   "cell_type": "code",
   "execution_count": 1,
   "metadata": {},
   "outputs": [],
   "source": [
    "import numpy as np\n",
    "import json\n",
    "import time\n",
    "import matplotlib.pyplot as plt\n",
    "import heapq\n",
    "from ortools.linear_solver import pywraplp"
   ]
  },
  {
   "cell_type": "code",
   "execution_count": 2,
   "metadata": {},
   "outputs": [],
   "source": [
    "def load_items_from_json(file_path):\n",
    "    with open(file_path, 'r', encoding='utf-8') as f:\n",
    "        return json.load(f)"
   ]
  },
  {
   "cell_type": "markdown",
   "id": "f3bc2712",
   "metadata": {},
   "source": [
    "### Thuật toán Greedy (Tham lam)\n",
    "Thuật toán Greedy lựa chọn các món hàng dựa trên **tỷ lệ giá trị / chi phí** (`value/cost`) cao nhất trước. \n",
    "Ý tưởng là chọn món có \"lợi\" nhất cho đến khi không thể thêm được nữa do vượt quá ngân sách.\n",
    "#### Ưu điểm:\n",
    "- Rất nhanh, phù hợp với dữ liệu lớn.\n",
    "- Cài đặt đơn giản.\n",
    "#### Nhược điểm:\n",
    "- Không đảm bảo cho ra kết quả tối ưu.\n",
    "- Phụ thuộc vào chiến lược sắp xếp ban đầu.\n",
    "#### Ứng dụng:\n",
    "- Dùng như lời giải xấp xỉ khi không cần chính xác tuyệt đối."
   ]
  },
  {
   "cell_type": "markdown",
   "id": "7a82d84d",
   "metadata": {},
   "source": [
    "### Thuật toán Greedy\n",
    "\n",
    "Thuật toán này chọn các món hàng theo tỷ lệ `value/cost` giảm dần cho đến khi hết ngân sách. Đây là giải pháp gần đúng, thời gian chạy nhanh nhưng không đảm bảo tối ưu.\n"
   ]
  },
  {
   "cell_type": "code",
   "execution_count": 3,
   "metadata": {},
   "outputs": [],
   "source": [
    "def greedy_knapsack(items, budget):\n",
    "    start_time = time.time()\n",
    "    items.sort(key=lambda x: x['value'] / x['cost'], reverse=True)\n",
    "    total_cost, total_value = 0, 0\n",
    "    selected_items = []\n",
    "    \n",
    "    for item in items:\n",
    "        if total_cost + item['cost'] <= budget:\n",
    "            selected_items.append(item['name'])\n",
    "            total_cost += item['cost']\n",
    "            total_value += item['value']\n",
    "    \n",
    "    end_time = time.time()\n",
    "    print(\"Greedy Solution:\")\n",
    "    print(\"Chọn:\", selected_items)\n",
    "    print(\"Tổng giá trị:\", total_value, \"\\n\")\n",
    "    return total_value, end_time - start_time"
   ]
  },
  {
   "cell_type": "markdown",
   "id": "0c72d20d",
   "metadata": {},
   "source": [
    "### Thuật toán Quy hoạch động (Dynamic Programming - DP)\n",
    "\n",
    "Thuật toán DP xây dựng bảng `dp[i][w]` đại diện cho giá trị tối đa đạt được khi xét đến `i` món đầu tiên và giới hạn ngân sách `w`.\n",
    "\n",
    "#### Ý tưởng chính:\n",
    "- Với mỗi món hàng, có hai lựa chọn: chọn hoặc không chọn.\n",
    "- Sử dụng bảng lưu trữ để tránh tính toán lặp lại.\n",
    "\n",
    "#### Ưu điểm:\n",
    "- Đảm bảo tìm được lời giải tối ưu.\n",
    "- Hiểu rõ cấu trúc bài toán con.\n",
    "\n",
    "#### Nhược điểm:\n",
    "- Tốn bộ nhớ và thời gian khi ngân sách lớn.\n"
   ]
  },
  {
   "cell_type": "markdown",
   "id": "624fd559",
   "metadata": {},
   "source": [
    "### Thuật toán Quy hoạch động (Dynamic Programming)\n",
    "\n",
    "Giải pháp chính xác cho bài toán Knapsack bằng cách xây dựng bảng giá trị tối ưu cho từng trọng số từ 0 đến ngân sách.\n"
   ]
  },
  {
   "cell_type": "code",
   "execution_count": 4,
   "metadata": {},
   "outputs": [],
   "source": [
    "def dp_knapsack(items, budget):\n",
    "    start_time = time.time()\n",
    "    n = len(items)\n",
    "    dp = [[0] * (budget + 1) for _ in range(n + 1)]\n",
    "    \n",
    "    for i in range(1, n + 1):\n",
    "        cost = items[i - 1]['cost']\n",
    "        value = items[i - 1]['value']\n",
    "        for w in range(budget + 1):\n",
    "            if cost <= w:\n",
    "                dp[i][w] = max(dp[i - 1][w], dp[i - 1][w - cost] + value)\n",
    "            else:\n",
    "                dp[i][w] = dp[i - 1][w]\n",
    "    \n",
    "    end_time = time.time()\n",
    "    print(\"DP Solution:\")\n",
    "    print(\"Tổng giá trị tối ưu:\", dp[n][budget], \"\\n\")\n",
    "    return dp[n][budget], end_time - start_time\n"
   ]
  },
  {
   "cell_type": "markdown",
   "id": "71c93519",
   "metadata": {},
   "source": [
    "### Thuật toán Nhánh và Cận (Branch and Bound - BnB)\n",
    "\n",
    "BnB là phương pháp thử tất cả các khả năng nhưng sử dụng kỹ thuật **cắt tỉa** (pruning) để loại bỏ các nhánh không cần thiết.\n",
    "\n",
    "#### Cách hoạt động:\n",
    "- Mỗi bước quyết định chọn hoặc bỏ món hàng.\n",
    "- Tính toán giới hạn trên để loại bỏ nhánh không có tiềm năng.\n",
    "\n",
    "#### Ưu điểm:\n",
    "- Tối ưu hơn so với vét cạn (brute-force).\n",
    "- Có thể tìm lời giải tốt trong thời gian hợp lý.\n",
    "\n",
    "#### Nhược điểm:\n",
    "- Hiệu quả phụ thuộc vào cách sắp xếp và giới hạn ước lượng.\n"
   ]
  },
  {
   "cell_type": "markdown",
   "id": "34020a51",
   "metadata": {},
   "source": [
    "### Thuật toán Nhánh và Cận (Branch and Bound)\n",
    "\n",
    "Sử dụng cây trạng thái để xét các khả năng lựa chọn, đồng thời loại bỏ nhánh không cần thiết dựa trên giới hạn cận.\n"
   ]
  },
  {
   "cell_type": "code",
   "execution_count": 1,
   "metadata": {},
   "outputs": [],
   "source": [
    "def branch_and_bound_knapsack(items, budget):\n",
    "    start_time = time.time()\n",
    "    items.sort(key=lambda x: x['value'] / x['cost'], reverse=True)\n",
    "    n = len(items)\n",
    "    max_value = 0\n",
    "    queue = []\n",
    "    heapq.heappush(queue, (-items[0]['value'], 0, 0, 0))\n",
    "    \n",
    "    while queue:\n",
    "        neg_upper_bound, level, total_cost, total_value = heapq.heappop(queue)\n",
    "        \n",
    "        if level >= n:\n",
    "            continue\n",
    "        \n",
    "        next_item = items[level]\n",
    "        if total_cost + next_item['cost'] <= budget:\n",
    "            new_total_cost = total_cost + next_item['cost']\n",
    "            new_total_value = total_value + next_item['value']\n",
    "            heapq.heappush(queue, (-new_total_value, level + 1, new_total_cost, new_total_value))\n",
    "            \n",
    "            if new_total_value > max_value:\n",
    "                max_value = new_total_value\n",
    "        \n",
    "        heapq.heappush(queue, (-total_value, level + 1, total_cost, total_value))\n",
    "    \n",
    "    end_time = time.time()\n",
    "    print(\"Branch and Bound Solution:\")\n",
    "    print(\"Tổng giá trị:\", max_value, \"\\n\")\n",
    "    return max_value, end_time - start_time"
   ]
  },
  {
   "cell_type": "markdown",
   "id": "4fb0054e",
   "metadata": {},
   "source": [
    "### Thuật toán sử dụng OR-Tools (Tối ưu hóa tuyến tính nguyên)\n",
    "\n",
    "Thư viện OR-Tools của Google hỗ trợ giải bài toán tối ưu bằng nhiều phương pháp hiện đại như **Linear Programming** hay **Mixed Integer Programming**.\n",
    "\n",
    "#### Cách sử dụng:\n",
    "- Biểu diễn bài toán dưới dạng mô hình toán học: biến quyết định, ràng buộc, hàm mục tiêu.\n",
    "- Gọi solver phù hợp (ví dụ: `SCIP`, `CBC`, ...).\n",
    "\n",
    "#### Ưu điểm:\n",
    "- Hiện đại, dễ sử dụng.\n",
    "- Thường cho kết quả tốt và nhanh.\n",
    "\n",
    "#### Nhược điểm:\n",
    "- Cần cài đặt thêm thư viện.\n",
    "- Phải hiểu mô hình hóa bài toán.\n",
    "\n",
    "#### Ứng dụng:\n",
    "- Các hệ thống tối ưu thực tế, logistics, tài chính, lập lịch.\n"
   ]
  },
  {
   "cell_type": "markdown",
   "id": "a44424e0",
   "metadata": {},
   "source": [
    "### Thuật toán sử dụng OR-Tools\n",
    "\n",
    "Tận dụng thư viện tối ưu hóa OR-Tools của Google để giải bài toán một cách hiệu quả.\n"
   ]
  },
  {
   "cell_type": "code",
   "execution_count": 6,
   "metadata": {},
   "outputs": [],
   "source": [
    "def ortools_linear_knapsack(items, budget):\n",
    "    solver = pywraplp.Solver.CreateSolver('SCIP')\n",
    "    if not solver:\n",
    "        return 0, 0\n",
    "    \n",
    "    item_vars = [solver.BoolVar(f'x{i}') for i in range(len(items))]\n",
    "    solver.Maximize(solver.Sum(items[i]['value'] * item_vars[i] for i in range(len(items))))\n",
    "    solver.Add(solver.Sum(items[i]['cost'] * item_vars[i] for i in range(len(items))) <= budget)\n",
    "    \n",
    "    start_time = time.time()\n",
    "    status = solver.Solve()\n",
    "    end_time = time.time()\n",
    "    \n",
    "    if status == pywraplp.Solver.OPTIMAL:\n",
    "        total_value = solver.Objective().Value()\n",
    "        print(\"OR-Tools Linear Programming Solution:\")\n",
    "        print(f\"Tổng giá trị: {total_value}\")\n",
    "        return total_value, end_time - start_time\n",
    "    else:\n",
    "        print(\"Không tìm thấy giải pháp tối ưu.\")\n",
    "        return 0, end_time - start_time"
   ]
  },
  {
   "cell_type": "markdown",
   "metadata": {},
   "source": [
    "## ▶️ Chạy thử nghiệm và so sánh kết quả\n",
    "\n",
    "Trong phần này, chúng tôi sẽ:\n",
    "- Đọc dữ liệu từ file\n",
    "- Thiết lập ngân sách\n",
    "- Gọi các hàm giải quyết bài toán\n",
    "- So sánh thời gian chạy và kết quả đạt được"
   ]
  },
  {
   "cell_type": "code",
   "execution_count": 7,
   "metadata": {},
   "outputs": [
    {
     "name": "stdout",
     "output_type": "stream",
     "text": [
      "OR-Tools Linear Programming Solution:\n",
      "Tổng giá trị: 24.0\n",
      "Greedy Solution:\n",
      "Chọn: ['Sữa hộp 1L', 'Trứng gà 10 quả', 'Bánh mì 500g', 'Dầu ăn 1L', 'Nước mắm 500ml', 'Gạo 5kg']\n",
      "Tổng giá trị: 23 \n",
      "\n",
      "DP Solution:\n",
      "Tổng giá trị tối ưu: 24 \n",
      "\n",
      "Branch and Bound Solution:\n",
      "Tổng giá trị: 24 \n",
      "\n"
     ]
    },
    {
     "data": {
      "image/png": "[encoded data removed]",
      "text/plain": [
       "<Figure size 640x480 with 2 Axes>"
      ]
     },
     "metadata": {},
     "output_type": "display_data"
    }
   ],
   "source": [
    "if __name__ == \"__main__\":\n",
    "    budget = 500000\n",
    "    items = load_items_from_json(\"items.json\")\n",
    "    \n",
    "    results = {\n",
    "        \"OR-Tools Linear Programming\": ortools_linear_knapsack(items, budget),\n",
    "        \"Greedy\": greedy_knapsack(items, budget),\n",
    "        \"Dynamic Programming\": dp_knapsack(items, budget),\n",
    "                \"Branch and Bound\": branch_and_bound_knapsack(items, budget)\n",
    "    }\n",
    "    \n",
    "    labels = list(results.keys())\n",
    "    values = [res[0] for res in results.values()]\n",
    "    times = [res[1] for res in results.values()]\n",
    "    \n",
    "    fig, ax1 = plt.subplots()\n",
    "    ax2 = ax1.twinx()\n",
    "    ax1.bar(labels, values, color='g', alpha=0.6, label='Total Value')\n",
    "    ax2.plot(labels, times, color='r', marker='o', label='Execution Time')\n",
    "    \n",
    "    ax1.set_xlabel(\"Algorithms\")\n",
    "    ax1.set_ylabel(\"Total Value\", color='g')\n",
    "    ax2.set_ylabel(\"Execution Time (s)\", color='r')\n",
    "    ax1.set_title(\"Comparison of Knapsack Algorithms\")\n",
    "    \n",
    "    fig.legend(loc='upper left')\n",
    "    plt.show()"
   ]
  },
  {
   "cell_type": "markdown",
   "metadata": {},
   "source": [
    "## 📊 Tổng kết & Nhận xét\n",
    "\n",
    "| Thuật toán                  | Giá trị đạt được | Thời gian (giây) | Nhận xét                                                           |\n",
    "|-----------------------------|------------------|------------------|---------------------------------------------------------------------|\n",
    "| Greedy                     | 23               | Nhanh            | Rất nhanh, đơn giản, nhưng không tìm được kết quả tối ưu            |\n",
    "| Dynamic Programming (DP)   | 24               | Trung bình       | Đạt kết quả tối ưu, phù hợp với dữ liệu nhỏ hoặc vừa                |\n",
    "| Branch and Bound (BnB)     | 24               | Chậm hơn DP      | Chính xác, phù hợp với dữ liệu không quá lớn, có thể bị chậm        |\n",
    "| OR-Tools Linear Programming| 24.0             | Hiệu quả         | Hiện đại, tự động hóa tốt, cho kết quả tối ưu nhanh và ổn định      |\n",
    "\n",
    "👉 Như vậy, các thuật toán DP, BnB và OR-Tools đều cho ra **giá trị tối ưu là 24**, trong khi **Greedy** chỉ đạt **23** do tính chất xấp xỉ.\n",
    "\n",
    "**Lời khuyên**:\n",
    "- Dữ liệu nhỏ: DP hoặc BnB là lựa chọn tốt.\n",
    "- Dữ liệu lớn: Dùng OR-Tools để tận dụng sức mạnh mô hình tối ưu hóa hiện đại.\n",
    "- Khi cần tốc độ hơn độ chính xác: Greedy vẫn là lựa chọn nhẹ và nhanh.\n",
    "\n"
   ]
  }
 ],
 "metadata": {
  "kernelspec": {
   "display_name": "Python 3",
   "language": "python",
   "name": "python3"
  },
  "language_info": {
   "codemirror_mode": {
    "name": "ipython",
    "version": 3
   },
   "file_extension": ".py",
   "mimetype": "text/x-python",
   "name": "python",
   "nbconvert_exporter": "python",
   "pygments_lexer": "ipython3",
   "version": "3.13.2"
  }
 },
 "nbformat": 4,
 "nbformat_minor": 2
}
